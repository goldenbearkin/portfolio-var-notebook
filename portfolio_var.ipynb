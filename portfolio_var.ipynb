{
  "cells": [
    {
      "cell_type": "markdown",
      "metadata": {},
      "source": [
        "# Portfolio VaR Notebook\n",
        "\n",
        "This notebook computes portfolio Value at Risk (VaR) using historical prices from yfinance. It supports configurable portfolio constituents, confidence level, and returns timeframe (daily/weekly/monthly). Methodology: adjusted close prices → resampled → log returns → portfolio P&L → Historical VaR (and optional parametric VaR for comparison). Limitations: relies on price history quality and assumes stationarity for historical VaR; parametric results assume approximate normality.\n"
      ]
    },
    {
      "cell_type": "code",
      "execution_count": null,
      "metadata": {},
      "outputs": [],
      "source": [
        "# Setup\n",
        "import warnings\n",
        "warnings.filterwarnings(\"ignore\")\n",
        "\n",
        "import pandas as pd\n",
        "import numpy as np\n",
        "\n",
        "from src.portfolio import Asset, Portfolio, validate_confidence_level, validate_timeframe\n",
        "from src.data import fetch_adjusted_close, align_on_common_dates, coverage_table\n",
        "from src.returns import resample_prices, compute_log_returns, latest_prices_from_frame, portfolio_pnl_series\n",
        "from src.var import summarize_var\n",
        "from src.plotting import plot_prices, plot_portfolio_pnl, plot_return_histogram\n",
        "\n",
        "pd.options.display.float_format = lambda x: f\"{x:,.6f}\"\n"
      ]
    },
    {
      "cell_type": "code",
      "execution_count": null,
      "metadata": {},
      "outputs": [],
      "source": [
        "# Portfolio configuration (edit and re-run to change)\n",
        "confidence = 0.99  # 0.90–0.9999\n",
        "timeframe = \"daily\"  # one of: daily, weekly, monthly\n",
        "start_date = None  # e.g., \"2018-01-01\" or None\n",
        "end_date = None    # e.g., \"2024-12-31\" or None\n",
        "\n",
        "portfolio = Portfolio([\n",
        "    Asset(ticker=\"AAPL\", name=\"Apple\", position=10),\n",
        "    Asset(ticker=\"MSFT\", name=\"Microsoft\", position=8),\n",
        "    Asset(ticker=\"TSLA\", name=\"Tesla\", position=5),\n",
        "])\n",
        "\n",
        "# Validate inputs\n",
        "validate_confidence_level(confidence)\n",
        "timeframe = validate_timeframe(timeframe)\n",
        "\n",
        "print(\"Recreate this portfolio by running:\\n\")\n",
        "print(portfolio.recreate_snippet())\n"
      ]
    },
    {
      "cell_type": "code",
      "execution_count": null,
      "metadata": {},
      "outputs": [],
      "source": [
        "# Data retrieval\n",
        "prices_raw = fetch_adjusted_close(portfolio.tickers(), start=start_date, end=end_date, progress=False)\n",
        "\n",
        "if prices_raw.empty:\n",
        "    raise RuntimeError(\"No price data fetched. Check tickers/date range/network.\")\n",
        "\n",
        "# Alignment and coverage\n",
        "prices_aligned, dropped = align_on_common_dates(prices_raw, min_obs=60)\n",
        "\n",
        "if dropped:\n",
        "    print(f\"Warning: Dropped tickers with insufficient observations: {', '.join(dropped)}\")\n",
        "\n",
        "coverage = coverage_table(prices_raw)\n",
        "print(\"Data coverage (raw):\")\n",
        "coverage\n"
      ]
    },
    {
      "cell_type": "code",
      "execution_count": null,
      "metadata": {},
      "outputs": [],
      "source": [
        "# Returns and exposures\n",
        "prices_resampled = resample_prices(prices_aligned, timeframe)\n",
        "asset_returns = compute_log_returns(prices_resampled)\n",
        "\n",
        "# Latest prices and holdings table\n",
        "latest_px = prices_resampled.ffill().iloc[-1]\n",
        "holdings = portfolio.holdings_table(latest_px)\n",
        "\n",
        "# Per-asset return stats\n",
        "from src.returns import returns_statistics\n",
        "ret_stats = returns_statistics(asset_returns)\n",
        "\n",
        "holdings, ret_stats\n"
      ]
    },
    {
      "cell_type": "code",
      "execution_count": null,
      "metadata": {},
      "outputs": [],
      "source": [
        "# Portfolio P&L series (currency)\n",
        "from src.returns import portfolio_pnl_series\n",
        "\n",
        "pnl_series = portfolio_pnl_series(asset_returns, prices_resampled, portfolio.positions_series())\n",
        "portfolio_value = portfolio.current_value(latest_px)\n",
        "\n",
        "print(f\"Portfolio current value: {portfolio_value:,.2f}\")\n",
        "pnl_series.tail()\n"
      ]
    },
    {
      "cell_type": "code",
      "execution_count": null,
      "metadata": {},
      "outputs": [],
      "source": [
        "# VaR and contributions\n",
        "result, contrib = summarize_var(\n",
        "    pnl_series=pnl_series,\n",
        "    portfolio_value=portfolio_value,\n",
        "    confidence=confidence,\n",
        "    timeframe=timeframe,\n",
        "    asset_returns=asset_returns,\n",
        "    positions=portfolio.positions_series(),\n",
        "    latest_prices=latest_px,\n",
        ")\n",
        "\n",
        "summary = pd.DataFrame([\n",
        "    {\n",
        "        \"Confidence\": f\"{result.confidence:.2%}\",\n",
        "        \"Timeframe\": result.timeframe,\n",
        "        \"Hist VaR (abs)\": result.historical_var_abs,\n",
        "        \"Hist VaR (%PV)\": result.historical_var_pct,\n",
        "        \"Param VaR (abs)\": result.parametric_var_abs,\n",
        "        \"Param VaR (%PV)\": result.parametric_var_pct,\n",
        "    }\n",
        "])\n",
        "summary\n"
      ]
    },
    {
      "cell_type": "code",
      "execution_count": null,
      "metadata": {},
      "outputs": [],
      "source": [
        "# Contributions table (if available)\n",
        "if contrib is not None and not contrib.empty:\n",
        "    contrib_df = contrib.to_frame(name=\"Contribution (currency)\")\n",
        "    contrib_df = contrib_df.sort_values(by=contrib_df.columns[0], ascending=False)\n",
        "    contrib_df\n",
        "else:\n",
        "    print(\"Contribution approximation unavailable (insufficient data).\")\n"
      ]
    },
    {
      "cell_type": "code",
      "execution_count": null,
      "metadata": {},
      "outputs": [],
      "source": [
        "# Plots\n",
        "_ = plot_prices(prices_resampled, names_map=portfolio.names_map())\n",
        "_ = plot_portfolio_pnl(pnl_series)\n",
        "_ = plot_return_histogram(pnl_series, var_abs=result.historical_var_abs, confidence=confidence)\n"
      ]
    },
    {
      "cell_type": "markdown",
      "metadata": {},
      "source": [
        "## Summary\n",
        "- Portfolio holdings and data coverage are shown above.\n",
        "- Historical VaR is computed from the left-tail quantile of portfolio P&L; positive value indicates estimated loss at the chosen confidence.\n",
        "- Contributions are approximated via a parametric Euler allocation to provide a sense of marginal risk by asset.\n",
        "- Changing the portfolio, timeframe, or confidence and re-running will update all outputs.\n"
      ]
    }
  ],
  "metadata": {
    "language_info": {
      "name": "python"
    }
  },
  "nbformat": 4,
  "nbformat_minor": 2
}
